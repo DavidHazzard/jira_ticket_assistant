{
 "cells": [
  {
   "cell_type": "code",
   "execution_count": 1,
   "metadata": {},
   "outputs": [
    {
     "name": "stdout",
     "output_type": "stream",
     "text": [
      "Database connection established.\n",
      "Successfully retrieved metadata and inspector.\n"
     ]
    }
   ],
   "source": [
    "from aiModules import *\n",
    "from databaseModules import *"
   ]
  },
  {
   "cell_type": "code",
   "execution_count": 4,
   "metadata": {},
   "outputs": [],
   "source": [
    "reepicheep = lb.ticketAssistant_lc()"
   ]
  },
  {
   "cell_type": "code",
   "execution_count": 5,
   "metadata": {},
   "outputs": [
    {
     "name": "stdout",
     "output_type": "stream",
     "text": [
      "[{'role': 'user', 'content': 'I need to write a user story for my client WK'}, <OpenAIObject at 0x20eb1850dd0> JSON: {\n",
      "  \"role\": \"assistant\",\n",
      "  \"content\": null,\n",
      "  \"function_call\": {\n",
      "    \"name\": \"getUserStoryTemplate\",\n",
      "    \"arguments\": \"{\\n  \\\"client\\\": \\\"WK\\\"\\n}\"\n",
      "  }\n",
      "}, {'role': 'function', 'name': 'getUserStoryTemplate', 'content': [SystemMessage(content='You are an AI Jira ticket writing assistant that specializes in ticket generation and refinement. You are currently assisting a WK stakeholder by constructing acceptance criteria for a user story ticket.', additional_kwargs={}), HumanMessage(content='I am a business analyst stakeholder for WK. I need to write the acceptance criteria ticket for a user story.', additional_kwargs={}, example=False)]}]\n",
      "[SystemMessage(content='You are an AI Jira ticket writing assistant that specializes in ticket generation and refinement. You are currently assisting a WK stakeholder by constructing acceptance criteria for a user story ticket.', additional_kwargs={}), HumanMessage(content='I am a business analyst stakeholder for WK. I need to write the acceptance criteria ticket for a user story.', additional_kwargs={}, example=False)]\n",
      "content='Sure, I can help you with that. Please provide me with the details of the user story so that we can start crafting the acceptance criteria.' additional_kwargs={} example=False\n",
      "Human: I need to add a table called subscriptions to my database\n",
      "AI:  Sure thing! Adding a subscription table to your database should be relatively straightforward. Can you tell me a bit more about what you're trying to accomplish? What type of data will you be storing in the table?\n",
      "Human: It should have an ID column, a FK to users and products tables and have a start and end date\n",
      "AI:  Ok, got it. I understand you're wanting to add a subscription table to your database with an ID column, a foreign key to both the users and products tables, and columns for start and end dates. Is there anything else I can help you with?\n",
      "Human: The CREATE script should follow the schema laid out in the tech design. Please write out the acceptance criteria for me.\n",
      "AI:  Sure thing. For this particular task, your acceptance criteria should include:\n",
      "1. The subscription table is successfully created in the database\n",
      "2. The subscription table is structured according to the tech design schema\n",
      "3. The subscription table contains an ID column, a foreign key to both the users and products tables, and columns for start and end dates\n",
      "4. Any data entered into the subscription table is valid and successfully stored in the database.\n",
      "\n",
      "Is there anything else I can help you with?\n",
      "Exiting...\n",
      "{'ticket_type': 'create', 'result_type': 'acceptance_criteria', 'format_type': 'sql'}\n",
      "[{'role': 'user', 'content': ''}, {'role': 'assistant', 'content': ' Hi! How can I help you?'}, {'role': 'user', 'content': 'I need to add a table called subscriptions to my database'}, {'role': 'assistant', 'content': \" Sure thing! Adding a subscription table to your database should be relatively straightforward. Can you tell me a bit more about what you're trying to accomplish? What type of data will you be storing in the table?\"}, {'role': 'user', 'content': 'It should have an ID column, a FK to users and products tables and have a start and end date'}, {'role': 'assistant', 'content': \" Ok, got it. I understand you're wanting to add a subscription table to your database with an ID column, a foreign key to both the users and products tables, and columns for start and end dates. Is there anything else I can help you with?\"}, {'role': 'user', 'content': 'The CREATE script should follow the schema laid out in the tech design. Please write out the acceptance criteria for me.'}, {'role': 'assistant', 'content': ' Sure thing. For this particular task, your acceptance criteria should include:\\n1. The subscription table is successfully created in the database\\n2. The subscription table is structured according to the tech design schema\\n3. The subscription table contains an ID column, a foreign key to both the users and products tables, and columns for start and end dates\\n4. Any data entered into the subscription table is valid and successfully stored in the database.\\n\\nIs there anything else I can help you with?'}, <OpenAIObject at 0x20eafb44f50> JSON: {\n",
      "  \"role\": \"assistant\",\n",
      "  \"content\": null,\n",
      "  \"function_call\": {\n",
      "    \"name\": \"getSqlScriptTemplate\",\n",
      "    \"arguments\": \"{\\n  \\\"ticket_type\\\": \\\"create\\\",\\n  \\\"result_type\\\": \\\"acceptance_criteria\\\",\\n  \\\"format_type\\\": \\\"sql\\\"\\n}\"\n",
      "  }\n",
      "}, {'role': 'function', 'name': 'getSqlScriptTemplate', 'content': [SystemMessage(content='\\n    As an generative ticket writing assistant, your goal is to create and output actionable acceptance_criteria for a create ticket. \\n    Output the acceptance_criteria for the create ticket so that it can be consumed by a scrum team.\"\\n    ', additional_kwargs={}), HumanMessage(content='\\n    I need AI-generated acceptance_criteria output for a create ticket. \\n    The output should be formatted in sql and be pastable into a Jira panel.\\n    Base the output off of the following conversation: [HumanMessage(content=\\'\\', additional_kwargs={}, example=False), AIMessage(content=\\' Hi! How can I help you?\\', additional_kwargs={}, example=False), HumanMessage(content=\\'I need to add a table called subscriptions to my database\\', additional_kwargs={}, example=False), AIMessage(content=\" Sure thing! Adding a subscription table to your database should be relatively straightforward. Can you tell me a bit more about what you\\'re trying to accomplish? What type of data will you be storing in the table?\", additional_kwargs={}, example=False), HumanMessage(content=\\'It should have an ID column, a FK to users and products tables and have a start and end date\\', additional_kwargs={}, example=False), AIMessage(content=\" Ok, got it. I understand you\\'re wanting to add a subscription table to your database with an ID column, a foreign key to both the users and products tables, and columns for start and end dates. Is there anything else I can help you with?\", additional_kwargs={}, example=False), HumanMessage(content=\\'The CREATE script should follow the schema laid out in the tech design. Please write out the acceptance criteria for me.\\', additional_kwargs={}, example=False), AIMessage(content=\\' Sure thing. For this particular task, your acceptance criteria should include:\\\\n1. The subscription table is successfully created in the database\\\\n2. The subscription table is structured according to the tech design schema\\\\n3. The subscription table contains an ID column, a foreign key to both the users and products tables, and columns for start and end dates\\\\n4. Any data entered into the subscription table is valid and successfully stored in the database.\\\\n\\\\nIs there anything else I can help you with?\\', additional_kwargs={}, example=False)]\"\\n    f\"Do not output any natural language.\"\\n    f\"{ query_index: query_contents }\"\\n    ', additional_kwargs={}, example=False)]}]\n",
      "[SystemMessage(content='\\n    As an generative ticket writing assistant, your goal is to create and output actionable acceptance_criteria for a create ticket. \\n    Output the acceptance_criteria for the create ticket so that it can be consumed by a scrum team.\"\\n    ', additional_kwargs={}), HumanMessage(content='\\n    I need AI-generated acceptance_criteria output for a create ticket. \\n    The output should be formatted in sql and be pastable into a Jira panel.\\n    Base the output off of the following conversation: [HumanMessage(content=\\'\\', additional_kwargs={}, example=False), AIMessage(content=\\' Hi! How can I help you?\\', additional_kwargs={}, example=False), HumanMessage(content=\\'I need to add a table called subscriptions to my database\\', additional_kwargs={}, example=False), AIMessage(content=\" Sure thing! Adding a subscription table to your database should be relatively straightforward. Can you tell me a bit more about what you\\'re trying to accomplish? What type of data will you be storing in the table?\", additional_kwargs={}, example=False), HumanMessage(content=\\'It should have an ID column, a FK to users and products tables and have a start and end date\\', additional_kwargs={}, example=False), AIMessage(content=\" Ok, got it. I understand you\\'re wanting to add a subscription table to your database with an ID column, a foreign key to both the users and products tables, and columns for start and end dates. Is there anything else I can help you with?\", additional_kwargs={}, example=False), HumanMessage(content=\\'The CREATE script should follow the schema laid out in the tech design. Please write out the acceptance criteria for me.\\', additional_kwargs={}, example=False), AIMessage(content=\\' Sure thing. For this particular task, your acceptance criteria should include:\\\\n1. The subscription table is successfully created in the database\\\\n2. The subscription table is structured according to the tech design schema\\\\n3. The subscription table contains an ID column, a foreign key to both the users and products tables, and columns for start and end dates\\\\n4. Any data entered into the subscription table is valid and successfully stored in the database.\\\\n\\\\nIs there anything else I can help you with?\\', additional_kwargs={}, example=False)]\"\\n    f\"Do not output any natural language.\"\\n    f\"{ query_index: query_contents }\"\\n    ', additional_kwargs={}, example=False)]\n",
      "content='{\\n    1: \"The subscription table is successfully created in the database\",\\n    2: \"The subscription table is structured according to the tech design schema\",\\n    3: \"The subscription table contains an ID column, a foreign key to both the users and products tables, and columns for start and end dates\",\\n    4: \"Any data entered into the subscription table is valid and successfully stored in the database\"\\n}' additional_kwargs={} example=False\n"
     ]
    }
   ],
   "source": [
    "blind_run = reepicheep.run_blind()"
   ]
  },
  {
   "cell_type": "code",
   "execution_count": 8,
   "metadata": {},
   "outputs": [
    {
     "name": "stdout",
     "output_type": "stream",
     "text": [
      "{\n",
      "    1: \"The subscription table is successfully created in the database\",\n",
      "    2: \"The subscription table is structured according to the tech design schema\",\n",
      "    3: \"The subscription table contains an ID column, a foreign key to both the users and products tables, and columns for start and end dates\",\n",
      "    4: \"Any data entered into the subscription table is valid and successfully stored in the database\"\n",
      "}\n"
     ]
    }
   ],
   "source": [
    "initial_result = reepicheep.ticketOutputs[0]\n",
    "\n",
    "print(initial_result.content)"
   ]
  },
  {
   "cell_type": "code",
   "execution_count": 9,
   "metadata": {},
   "outputs": [
    {
     "name": "stdout",
     "output_type": "stream",
     "text": [
      "Human: Please write out the AC in Markdown so that I can paste it into a Jira panel\n",
      "AI:   Sure thing! Here is the acceptance criteria in Markdown format: \n",
      "\n",
      "**Acceptance Criteria** \n",
      "1. The subscription table is successfully created in the database\n",
      "2. The subscription table is structured according to the tech design schema\n",
      "3. The subscription table contains an ID column, a foreign key to both the users and products tables, and columns for start and end dates\n",
      "4. Any data entered into the subscription table is valid and successfully stored in the database.\n",
      "\n",
      "Is there anything else I can help you with?\n",
      "Exiting...\n",
      "{'ticket_type': 'feature', 'result_type': 'acceptance_criteria', 'format_type': 'markdown'}\n",
      "[{'role': 'user', 'content': ''}, {'role': 'assistant', 'content': ' Hi! How can I help you?'}, {'role': 'user', 'content': 'I need to add a table called subscriptions to my database'}, {'role': 'assistant', 'content': \" Sure thing! Adding a subscription table to your database should be relatively straightforward. Can you tell me a bit more about what you're trying to accomplish? What type of data will you be storing in the table?\"}, {'role': 'user', 'content': 'It should have an ID column, a FK to users and products tables and have a start and end date'}, {'role': 'assistant', 'content': \" Ok, got it. I understand you're wanting to add a subscription table to your database with an ID column, a foreign key to both the users and products tables, and columns for start and end dates. Is there anything else I can help you with?\"}, {'role': 'user', 'content': 'The CREATE script should follow the schema laid out in the tech design. Please write out the acceptance criteria for me.'}, {'role': 'assistant', 'content': ' Sure thing. For this particular task, your acceptance criteria should include:\\n1. The subscription table is successfully created in the database\\n2. The subscription table is structured according to the tech design schema\\n3. The subscription table contains an ID column, a foreign key to both the users and products tables, and columns for start and end dates\\n4. Any data entered into the subscription table is valid and successfully stored in the database.\\n\\nIs there anything else I can help you with?'}, {'role': 'user', 'content': 'Please write out the AC in Markdown so that I can paste it into a Jira panel'}, {'role': 'assistant', 'content': '  Sure thing! Here is the acceptance criteria in Markdown format: \\n\\n**Acceptance Criteria** \\n1. The subscription table is successfully created in the database\\n2. The subscription table is structured according to the tech design schema\\n3. The subscription table contains an ID column, a foreign key to both the users and products tables, and columns for start and end dates\\n4. Any data entered into the subscription table is valid and successfully stored in the database.\\n\\nIs there anything else I can help you with?'}, <OpenAIObject at 0x20eb1853590> JSON: {\n",
      "  \"role\": \"assistant\",\n",
      "  \"content\": null,\n",
      "  \"function_call\": {\n",
      "    \"name\": \"getGherkinTemplate\",\n",
      "    \"arguments\": \"{\\n  \\\"ticket_type\\\": \\\"feature\\\",\\n  \\\"result_type\\\": \\\"acceptance_criteria\\\",\\n  \\\"format_type\\\": \\\"markdown\\\"\\n}\"\n",
      "  }\n",
      "}, {'role': 'function', 'name': 'getGherkinTemplate', 'content': [SystemMessage(content='\\n    As an generative ticket writing assistant, your goal is to create and output actionable acceptance_criteria for a feature ticket. \\n    Output the acceptance_criteria for the feature ticket so that it can be consumed by a scrum team.\"\\n    ', additional_kwargs={}), HumanMessage(content='\\n    I need AI-generated acceptance_criteria output for a feature ticket. \\n    The output should be formatted in markdown and be pastable into a Jira panel.\\n    Base the output off of the following conversation: [HumanMessage(content=\\'\\', additional_kwargs={}, example=False), AIMessage(content=\\' Hi! How can I help you?\\', additional_kwargs={}, example=False), HumanMessage(content=\\'I need to add a table called subscriptions to my database\\', additional_kwargs={}, example=False), AIMessage(content=\" Sure thing! Adding a subscription table to your database should be relatively straightforward. Can you tell me a bit more about what you\\'re trying to accomplish? What type of data will you be storing in the table?\", additional_kwargs={}, example=False), HumanMessage(content=\\'It should have an ID column, a FK to users and products tables and have a start and end date\\', additional_kwargs={}, example=False), AIMessage(content=\" Ok, got it. I understand you\\'re wanting to add a subscription table to your database with an ID column, a foreign key to both the users and products tables, and columns for start and end dates. Is there anything else I can help you with?\", additional_kwargs={}, example=False), HumanMessage(content=\\'The CREATE script should follow the schema laid out in the tech design. Please write out the acceptance criteria for me.\\', additional_kwargs={}, example=False), AIMessage(content=\\' Sure thing. For this particular task, your acceptance criteria should include:\\\\n1. The subscription table is successfully created in the database\\\\n2. The subscription table is structured according to the tech design schema\\\\n3. The subscription table contains an ID column, a foreign key to both the users and products tables, and columns for start and end dates\\\\n4. Any data entered into the subscription table is valid and successfully stored in the database.\\\\n\\\\nIs there anything else I can help you with?\\', additional_kwargs={}, example=False), HumanMessage(content=\\'Please write out the AC in Markdown so that I can paste it into a Jira panel\\', additional_kwargs={}, example=False), AIMessage(content=\\'  Sure thing! Here is the acceptance criteria in Markdown format: \\\\n\\\\n**Acceptance Criteria** \\\\n1. The subscription table is successfully created in the database\\\\n2. The subscription table is structured according to the tech design schema\\\\n3. The subscription table contains an ID column, a foreign key to both the users and products tables, and columns for start and end dates\\\\n4. Any data entered into the subscription table is valid and successfully stored in the database.\\\\n\\\\nIs there anything else I can help you with?\\', additional_kwargs={}, example=False)]\"\\n    f\"\"\\n    f\"\"\\n    ', additional_kwargs={}, example=False)]}]\n",
      "[SystemMessage(content='\\n    As an generative ticket writing assistant, your goal is to create and output actionable acceptance_criteria for a feature ticket. \\n    Output the acceptance_criteria for the feature ticket so that it can be consumed by a scrum team.\"\\n    ', additional_kwargs={}), HumanMessage(content='\\n    I need AI-generated acceptance_criteria output for a feature ticket. \\n    The output should be formatted in markdown and be pastable into a Jira panel.\\n    Base the output off of the following conversation: [HumanMessage(content=\\'\\', additional_kwargs={}, example=False), AIMessage(content=\\' Hi! How can I help you?\\', additional_kwargs={}, example=False), HumanMessage(content=\\'I need to add a table called subscriptions to my database\\', additional_kwargs={}, example=False), AIMessage(content=\" Sure thing! Adding a subscription table to your database should be relatively straightforward. Can you tell me a bit more about what you\\'re trying to accomplish? What type of data will you be storing in the table?\", additional_kwargs={}, example=False), HumanMessage(content=\\'It should have an ID column, a FK to users and products tables and have a start and end date\\', additional_kwargs={}, example=False), AIMessage(content=\" Ok, got it. I understand you\\'re wanting to add a subscription table to your database with an ID column, a foreign key to both the users and products tables, and columns for start and end dates. Is there anything else I can help you with?\", additional_kwargs={}, example=False), HumanMessage(content=\\'The CREATE script should follow the schema laid out in the tech design. Please write out the acceptance criteria for me.\\', additional_kwargs={}, example=False), AIMessage(content=\\' Sure thing. For this particular task, your acceptance criteria should include:\\\\n1. The subscription table is successfully created in the database\\\\n2. The subscription table is structured according to the tech design schema\\\\n3. The subscription table contains an ID column, a foreign key to both the users and products tables, and columns for start and end dates\\\\n4. Any data entered into the subscription table is valid and successfully stored in the database.\\\\n\\\\nIs there anything else I can help you with?\\', additional_kwargs={}, example=False), HumanMessage(content=\\'Please write out the AC in Markdown so that I can paste it into a Jira panel\\', additional_kwargs={}, example=False), AIMessage(content=\\'  Sure thing! Here is the acceptance criteria in Markdown format: \\\\n\\\\n**Acceptance Criteria** \\\\n1. The subscription table is successfully created in the database\\\\n2. The subscription table is structured according to the tech design schema\\\\n3. The subscription table contains an ID column, a foreign key to both the users and products tables, and columns for start and end dates\\\\n4. Any data entered into the subscription table is valid and successfully stored in the database.\\\\n\\\\nIs there anything else I can help you with?\\', additional_kwargs={}, example=False)]\"\\n    f\"\"\\n    f\"\"\\n    ', additional_kwargs={}, example=False)]\n",
      "content='**Acceptance Criteria**\\n\\n1. The subscription table is successfully created in the database\\n2. The subscription table is structured according to the tech design schema\\n3. The subscription table contains an ID column, a foreign key to both the users and products tables, and columns for start and end dates\\n4. Any data entered into the subscription table is valid and successfully stored in the database.' additional_kwargs={} example=False\n"
     ]
    }
   ],
   "source": [
    "markdown_result = reepicheep.run_context()"
   ]
  },
  {
   "cell_type": "code",
   "execution_count": 16,
   "metadata": {},
   "outputs": [
    {
     "name": "stdout",
     "output_type": "stream",
     "text": [
      "**Acceptance Criteria**\n",
      "\n",
      "1. The subscription table is successfully created in the database\n",
      "2. The subscription table is structured according to the tech design schema\n",
      "3. The subscription table contains an ID column, a foreign key to both the users and products tables, and columns for start and end dates\n",
      "4. Any data entered into the subscription table is valid and successfully stored in the database.\n"
     ]
    }
   ],
   "source": [
    "markdown_output = reepicheep.ticketOutputs[1]\n",
    "\n",
    "print(reepicheep.ticketOutputs[1].content)"
   ]
  },
  {
   "cell_type": "code",
   "execution_count": 17,
   "metadata": {},
   "outputs": [
    {
     "name": "stdout",
     "output_type": "stream",
     "text": [
      "Human: Give me the create script and a select script for the new table with fk references\n",
      "AI:  Sure thing! Here is the CREATE script for the subscription table and a SELECT script for the table with foreign key references: \n",
      "\n",
      "CREATE TABLE subscriptions \n",
      "(\n",
      "  id INTEGER PRIMARY KEY, \n",
      "  user_id INTEGER NOT NULL REFERENCES users(id),\n",
      "  product_id INTEGER NOT NULL REFERENCES products(id),\n",
      "  start_date DATETIME NOT NULL,\n",
      "  end_date DATETIME NOT NULL\n",
      ");\n",
      "\n",
      "SELECT * \n",
      "FROM subscriptions s \n",
      "INNER JOIN users u \n",
      "ON s.user_id = u.id \n",
      "INNER JOIN products p \n",
      "ON s.product_id = p.id;\n",
      "\n",
      "Is there anything else I can help you with?\n",
      "Exiting...\n",
      "{'ticket_type': 'feature', 'result_type': 'output', 'format_type': 'markdown'}\n",
      "[{'role': 'user', 'content': ''}, {'role': 'assistant', 'content': ' Hi! How can I help you?'}, {'role': 'user', 'content': 'I need to add a table called subscriptions to my database'}, {'role': 'assistant', 'content': \" Sure thing! Adding a subscription table to your database should be relatively straightforward. Can you tell me a bit more about what you're trying to accomplish? What type of data will you be storing in the table?\"}, {'role': 'user', 'content': 'It should have an ID column, a FK to users and products tables and have a start and end date'}, {'role': 'assistant', 'content': \" Ok, got it. I understand you're wanting to add a subscription table to your database with an ID column, a foreign key to both the users and products tables, and columns for start and end dates. Is there anything else I can help you with?\"}, {'role': 'user', 'content': 'The CREATE script should follow the schema laid out in the tech design. Please write out the acceptance criteria for me.'}, {'role': 'assistant', 'content': ' Sure thing. For this particular task, your acceptance criteria should include:\\n1. The subscription table is successfully created in the database\\n2. The subscription table is structured according to the tech design schema\\n3. The subscription table contains an ID column, a foreign key to both the users and products tables, and columns for start and end dates\\n4. Any data entered into the subscription table is valid and successfully stored in the database.\\n\\nIs there anything else I can help you with?'}, {'role': 'user', 'content': 'Please write out the AC in Markdown so that I can paste it into a Jira panel'}, {'role': 'assistant', 'content': '  Sure thing! Here is the acceptance criteria in Markdown format: \\n\\n**Acceptance Criteria** \\n1. The subscription table is successfully created in the database\\n2. The subscription table is structured according to the tech design schema\\n3. The subscription table contains an ID column, a foreign key to both the users and products tables, and columns for start and end dates\\n4. Any data entered into the subscription table is valid and successfully stored in the database.\\n\\nIs there anything else I can help you with?'}, {'role': 'user', 'content': 'Give me the create script and a select script for the new table with fk references'}, {'role': 'assistant', 'content': ' Sure thing! Here is the CREATE script for the subscription table and a SELECT script for the table with foreign key references: \\n\\nCREATE TABLE subscriptions \\n(\\n  id INTEGER PRIMARY KEY, \\n  user_id INTEGER NOT NULL REFERENCES users(id),\\n  product_id INTEGER NOT NULL REFERENCES products(id),\\n  start_date DATETIME NOT NULL,\\n  end_date DATETIME NOT NULL\\n);\\n\\nSELECT * \\nFROM subscriptions s \\nINNER JOIN users u \\nON s.user_id = u.id \\nINNER JOIN products p \\nON s.product_id = p.id;\\n\\nIs there anything else I can help you with?'}, <OpenAIObject at 0x20eb1880170> JSON: {\n",
      "  \"role\": \"assistant\",\n",
      "  \"content\": null,\n",
      "  \"function_call\": {\n",
      "    \"name\": \"getMarkdownTemplate\",\n",
      "    \"arguments\": \"{\\n  \\\"ticket_type\\\": \\\"feature\\\",\\n  \\\"result_type\\\": \\\"output\\\",\\n  \\\"format_type\\\": \\\"markdown\\\"\\n}\"\n",
      "  }\n",
      "}, {'role': 'function', 'name': 'getMarkdownTemplate', 'content': [SystemMessage(content='\\n    As an generative ticket writing assistant, your goal is to create and output actionable output for a feature ticket. \\n    Output the output for the feature ticket so that it can be consumed by a scrum team.\"\\n    ', additional_kwargs={}), HumanMessage(content='\\n    I need AI-generated output output for a feature ticket. \\n    The output should be formatted in markdown and be pastable into a Jira panel.\\n    Base the output off of the following conversation: [HumanMessage(content=\\'\\', additional_kwargs={}, example=False), AIMessage(content=\\' Hi! How can I help you?\\', additional_kwargs={}, example=False), HumanMessage(content=\\'I need to add a table called subscriptions to my database\\', additional_kwargs={}, example=False), AIMessage(content=\" Sure thing! Adding a subscription table to your database should be relatively straightforward. Can you tell me a bit more about what you\\'re trying to accomplish? What type of data will you be storing in the table?\", additional_kwargs={}, example=False), HumanMessage(content=\\'It should have an ID column, a FK to users and products tables and have a start and end date\\', additional_kwargs={}, example=False), AIMessage(content=\" Ok, got it. I understand you\\'re wanting to add a subscription table to your database with an ID column, a foreign key to both the users and products tables, and columns for start and end dates. Is there anything else I can help you with?\", additional_kwargs={}, example=False), HumanMessage(content=\\'The CREATE script should follow the schema laid out in the tech design. Please write out the acceptance criteria for me.\\', additional_kwargs={}, example=False), AIMessage(content=\\' Sure thing. For this particular task, your acceptance criteria should include:\\\\n1. The subscription table is successfully created in the database\\\\n2. The subscription table is structured according to the tech design schema\\\\n3. The subscription table contains an ID column, a foreign key to both the users and products tables, and columns for start and end dates\\\\n4. Any data entered into the subscription table is valid and successfully stored in the database.\\\\n\\\\nIs there anything else I can help you with?\\', additional_kwargs={}, example=False), HumanMessage(content=\\'Please write out the AC in Markdown so that I can paste it into a Jira panel\\', additional_kwargs={}, example=False), AIMessage(content=\\'  Sure thing! Here is the acceptance criteria in Markdown format: \\\\n\\\\n**Acceptance Criteria** \\\\n1. The subscription table is successfully created in the database\\\\n2. The subscription table is structured according to the tech design schema\\\\n3. The subscription table contains an ID column, a foreign key to both the users and products tables, and columns for start and end dates\\\\n4. Any data entered into the subscription table is valid and successfully stored in the database.\\\\n\\\\nIs there anything else I can help you with?\\', additional_kwargs={}, example=False), HumanMessage(content=\\'Give me the create script and a select script for the new table with fk references\\', additional_kwargs={}, example=False), AIMessage(content=\\' Sure thing! Here is the CREATE script for the subscription table and a SELECT script for the table with foreign key references: \\\\n\\\\nCREATE TABLE subscriptions \\\\n(\\\\n  id INTEGER PRIMARY KEY, \\\\n  user_id INTEGER NOT NULL REFERENCES users(id),\\\\n  product_id INTEGER NOT NULL REFERENCES products(id),\\\\n  start_date DATETIME NOT NULL,\\\\n  end_date DATETIME NOT NULL\\\\n);\\\\n\\\\nSELECT * \\\\nFROM subscriptions s \\\\nINNER JOIN users u \\\\nON s.user_id = u.id \\\\nINNER JOIN products p \\\\nON s.product_id = p.id;\\\\n\\\\nIs there anything else I can help you with?\\', additional_kwargs={}, example=False)]\"\\n    f\"\"\\n    f\"\"\\n    ', additional_kwargs={}, example=False)]}]\n",
      "[SystemMessage(content='\\n    As an generative ticket writing assistant, your goal is to create and output actionable output for a feature ticket. \\n    Output the output for the feature ticket so that it can be consumed by a scrum team.\"\\n    ', additional_kwargs={}), HumanMessage(content='\\n    I need AI-generated output output for a feature ticket. \\n    The output should be formatted in markdown and be pastable into a Jira panel.\\n    Base the output off of the following conversation: [HumanMessage(content=\\'\\', additional_kwargs={}, example=False), AIMessage(content=\\' Hi! How can I help you?\\', additional_kwargs={}, example=False), HumanMessage(content=\\'I need to add a table called subscriptions to my database\\', additional_kwargs={}, example=False), AIMessage(content=\" Sure thing! Adding a subscription table to your database should be relatively straightforward. Can you tell me a bit more about what you\\'re trying to accomplish? What type of data will you be storing in the table?\", additional_kwargs={}, example=False), HumanMessage(content=\\'It should have an ID column, a FK to users and products tables and have a start and end date\\', additional_kwargs={}, example=False), AIMessage(content=\" Ok, got it. I understand you\\'re wanting to add a subscription table to your database with an ID column, a foreign key to both the users and products tables, and columns for start and end dates. Is there anything else I can help you with?\", additional_kwargs={}, example=False), HumanMessage(content=\\'The CREATE script should follow the schema laid out in the tech design. Please write out the acceptance criteria for me.\\', additional_kwargs={}, example=False), AIMessage(content=\\' Sure thing. For this particular task, your acceptance criteria should include:\\\\n1. The subscription table is successfully created in the database\\\\n2. The subscription table is structured according to the tech design schema\\\\n3. The subscription table contains an ID column, a foreign key to both the users and products tables, and columns for start and end dates\\\\n4. Any data entered into the subscription table is valid and successfully stored in the database.\\\\n\\\\nIs there anything else I can help you with?\\', additional_kwargs={}, example=False), HumanMessage(content=\\'Please write out the AC in Markdown so that I can paste it into a Jira panel\\', additional_kwargs={}, example=False), AIMessage(content=\\'  Sure thing! Here is the acceptance criteria in Markdown format: \\\\n\\\\n**Acceptance Criteria** \\\\n1. The subscription table is successfully created in the database\\\\n2. The subscription table is structured according to the tech design schema\\\\n3. The subscription table contains an ID column, a foreign key to both the users and products tables, and columns for start and end dates\\\\n4. Any data entered into the subscription table is valid and successfully stored in the database.\\\\n\\\\nIs there anything else I can help you with?\\', additional_kwargs={}, example=False), HumanMessage(content=\\'Give me the create script and a select script for the new table with fk references\\', additional_kwargs={}, example=False), AIMessage(content=\\' Sure thing! Here is the CREATE script for the subscription table and a SELECT script for the table with foreign key references: \\\\n\\\\nCREATE TABLE subscriptions \\\\n(\\\\n  id INTEGER PRIMARY KEY, \\\\n  user_id INTEGER NOT NULL REFERENCES users(id),\\\\n  product_id INTEGER NOT NULL REFERENCES products(id),\\\\n  start_date DATETIME NOT NULL,\\\\n  end_date DATETIME NOT NULL\\\\n);\\\\n\\\\nSELECT * \\\\nFROM subscriptions s \\\\nINNER JOIN users u \\\\nON s.user_id = u.id \\\\nINNER JOIN products p \\\\nON s.product_id = p.id;\\\\n\\\\nIs there anything else I can help you with?\\', additional_kwargs={}, example=False)]\"\\n    f\"\"\\n    f\"\"\\n    ', additional_kwargs={}, example=False)]\n",
      "content='## Feature Ticket: Add Subscription Table to Database\\n\\n### Description\\nAs a developer, I need to add a table called \"subscriptions\" to the database. This table will store information about user subscriptions including an ID, foreign keys to the \"users\" and \"products\" tables, and start and end dates for each subscription.\\n\\n### Acceptance Criteria\\n1. The subscription table is successfully created in the database.\\n2. The subscription table is structured according to the tech design schema.\\n3. The subscription table contains an ID column, a foreign key to both the users and products tables, and columns for start and end dates.\\n4. Any data entered into the subscription table is valid and successfully stored in the database.\\n\\n### Technical Details\\n```sql\\nCREATE TABLE subscriptions \\n(\\n  id INTEGER PRIMARY KEY, \\n  user_id INTEGER NOT NULL REFERENCES users(id),\\n  product_id INTEGER NOT NULL REFERENCES products(id),\\n  start_date DATETIME NOT NULL,\\n  end_date DATETIME NOT NULL\\n);\\n\\nSELECT * \\nFROM subscriptions s \\nINNER JOIN users u \\nON s.user_id = u.id \\nINNER JOIN products p \\nON s.product_id = p.id;\\n```\\n\\nPlease let me know if there is anything else I can assist you with.' additional_kwargs={} example=False\n"
     ]
    }
   ],
   "source": [
    "sql_result = reepicheep.run_context()"
   ]
  },
  {
   "cell_type": "code",
   "execution_count": 18,
   "metadata": {},
   "outputs": [
    {
     "name": "stdout",
     "output_type": "stream",
     "text": [
      "## Feature Ticket: Add Subscription Table to Database\n",
      "\n",
      "### Description\n",
      "As a developer, I need to add a table called \"subscriptions\" to the database. This table will store information about user subscriptions including an ID, foreign keys to the \"users\" and \"products\" tables, and start and end dates for each subscription.\n",
      "\n",
      "### Acceptance Criteria\n",
      "1. The subscription table is successfully created in the database.\n",
      "2. The subscription table is structured according to the tech design schema.\n",
      "3. The subscription table contains an ID column, a foreign key to both the users and products tables, and columns for start and end dates.\n",
      "4. Any data entered into the subscription table is valid and successfully stored in the database.\n",
      "\n",
      "### Technical Details\n",
      "```sql\n",
      "CREATE TABLE subscriptions \n",
      "(\n",
      "  id INTEGER PRIMARY KEY, \n",
      "  user_id INTEGER NOT NULL REFERENCES users(id),\n",
      "  product_id INTEGER NOT NULL REFERENCES products(id),\n",
      "  start_date DATETIME NOT NULL,\n",
      "  end_date DATETIME NOT NULL\n",
      ");\n",
      "\n",
      "SELECT * \n",
      "FROM subscriptions s \n",
      "INNER JOIN users u \n",
      "ON s.user_id = u.id \n",
      "INNER JOIN products p \n",
      "ON s.product_id = p.id;\n",
      "```\n",
      "\n",
      "Please let me know if there is anything else I can assist you with.\n"
     ]
    }
   ],
   "source": [
    "sql_output = reepicheep.ticketOutputs[2]\n",
    "print(sql_output.content)"
   ]
  },
  {
   "cell_type": "code",
   "execution_count": 44,
   "metadata": {},
   "outputs": [
    {
     "name": "stdout",
     "output_type": "stream",
     "text": [
      "[<sqlalchemy.sql.elements.TextClause object at 0x0000020EB33FBB10>, <sqlalchemy.sql.elements.TextClause object at 0x0000020EB33FAFD0>]\n"
     ]
    }
   ],
   "source": [
    "# need to figure out the best way to prompt for a clean SQL output\n",
    "import sqlalchemy as sa\n",
    "\n",
    "create_script = sa.text(\n",
    "    \"\"\"CREATE TABLE subscriptions \n",
    "    (\n",
    "      id INTEGER PRIMARY KEY, \n",
    "      user_id INTEGER NOT NULL REFERENCES users(id),\n",
    "      product_id INTEGER NOT NULL REFERENCES products(id),\n",
    "      start_date DATETIME NOT NULL,\n",
    "      end_date DATETIME NOT NULL\n",
    "    );\"\"\"\n",
    ")\n",
    "    \n",
    "select_script = sa.text(\n",
    "    \"\"\"SELECT * \n",
    "    FROM userorderProducts u\n",
    "    INNER JOIN products p \n",
    "    ON u.product_id = p.id;\"\"\"\n",
    ")\n",
    "\n",
    "scripts = [create_script, select_script]\n",
    "\n",
    "print(scripts)"
   ]
  },
  {
   "cell_type": "code",
   "execution_count": 60,
   "metadata": {},
   "outputs": [
    {
     "name": "stdout",
     "output_type": "stream",
     "text": [
      "['userorderproducts', 'products'] \n",
      "\n",
      "Invalid query. The table 'userorderproducts' does not exist in the database.\n",
      "Replaced userorderproducts with userorderitems \n",
      "\n",
      "products is valid.\n",
      "\n",
      "['userorderitems', 'products', 'There is no specific information provided in the given schema to predict the correct table name for subscriptions.', 'users']\n"
     ]
    }
   ],
   "source": [
    "validated_queries = dbvf.validateTables(scripts[1].text)"
   ]
  },
  {
   "cell_type": "code",
   "execution_count": 61,
   "metadata": {},
   "outputs": [
    {
     "name": "stdout",
     "output_type": "stream",
     "text": [
      "SELECT * \n",
      "    FROM userorderitems u\n",
      "    INNER JOIN products p \n",
      "    ON u.product_id = p.id;\n"
     ]
    }
   ],
   "source": [
    "print(validated_queries)"
   ]
  },
  {
   "cell_type": "code",
   "execution_count": 65,
   "metadata": {},
   "outputs": [
    {
     "name": "stdout",
     "output_type": "stream",
     "text": [
      "Query columns by table: \n",
      " {'userorderitems': ['product_id'], 'products': ['id']} \n",
      "\n",
      "id is valid.\n",
      "\n",
      "Invalid query. The column 'product_id' does not exist in the table 'UserOrderItems'.\n",
      "Replaced 'product_id' with 'productid' \n",
      "\n",
      "SELECT * \n",
      "    FROM userorderitems u\n",
      "    INNER JOIN products p \n",
      "    ON u.productid = p.id;\n"
     ]
    }
   ],
   "source": [
    "validated_columns = dbvf.validateColumns(validated_queries.text)"
   ]
  }
 ],
 "metadata": {
  "kernelspec": {
   "display_name": "Python 3",
   "language": "python",
   "name": "python3"
  },
  "language_info": {
   "codemirror_mode": {
    "name": "ipython",
    "version": 3
   },
   "file_extension": ".py",
   "mimetype": "text/x-python",
   "name": "python",
   "nbconvert_exporter": "python",
   "pygments_lexer": "ipython3",
   "version": "3.11.4"
  },
  "orig_nbformat": 4
 },
 "nbformat": 4,
 "nbformat_minor": 2
}
