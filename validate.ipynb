{
 "cells": [
  {
   "cell_type": "code",
   "execution_count": 1,
   "metadata": {},
   "outputs": [
    {
     "name": "stdout",
     "output_type": "stream",
     "text": [
      "Database connection established.\n",
      "Successfully retrieved metadata and inspector.\n"
     ]
    }
   ],
   "source": [
    "from databaseModules import *\n",
    "import sqlalchemy as sa"
   ]
  },
  {
   "cell_type": "markdown",
   "metadata": {},
   "source": [
    "## Validate and replace table names:"
   ]
  },
  {
   "cell_type": "code",
   "execution_count": 2,
   "metadata": {},
   "outputs": [
    {
     "name": "stdout",
     "output_type": "stream",
     "text": [
      "SELECT * FROM products p JOIN userorderProducts uoi ON p.id = uoi.productId WHERE uoi.orderId = 1\n",
      "products is valid.\n",
      "\n",
      "Invalid query. The table 'userorderproducts' does not exist in the database.\n",
      "Replaced userorderproducts with userorderitems \n",
      "\n",
      "['products', 'userorderitems']\n",
      "{'products': Table('products', MetaData(), Column('Id', INTEGER(), table=<products>, primary_key=True, nullable=False), Column('Name', NVARCHAR(length=50), table=<products>, nullable=False), Column('Price', DECIMAL(precision=18, scale=2), table=<products>, nullable=False), schema=None), 'userorderitems': Table('UserOrderItems', MetaData(), Column('Id', INTEGER(), table=<UserOrderItems>, primary_key=True, nullable=False, server_default=Identity(start=1, increment=1)), Column('UserOrderId', INTEGER(), ForeignKey('UserOrders.Id'), table=<UserOrderItems>, nullable=False), Column('ProductId', INTEGER(), ForeignKey('products.Id'), table=<UserOrderItems>, nullable=False), Column('Quantity', INTEGER(), table=<UserOrderItems>, nullable=False), schema=None), 'userorders': Table('UserOrders', MetaData(), Column('Id', INTEGER(), table=<UserOrders>, primary_key=True, nullable=False, server_default=Identity(start=1, increment=1)), Column('UserId', INTEGER(), ForeignKey('Users.Id'), table=<UserOrders>, nullable=False), Column('OrderDate', DATETIME(), table=<UserOrders>, nullable=False, server_default=DefaultClause(<sqlalchemy.sql.elements.TextClause object at 0x0000024EA56E1690>, for_update=False)), Column('OrderNumber', NVARCHAR(length=10), table=<UserOrders>, nullable=False), schema=None), 'users': Table('Users', MetaData(), Column('Id', INTEGER(), table=<Users>, primary_key=True, nullable=False, server_default=Identity(start=1, increment=1)), Column('Name', NVARCHAR(length=50), table=<Users>, nullable=False), Column('Email', NVARCHAR(length=50), table=<Users>, nullable=False), Column('Password', NVARCHAR(length=50), table=<Users>, nullable=False), Column('Created', DATETIME(), table=<Users>, nullable=False, server_default=DefaultClause(<sqlalchemy.sql.elements.TextClause object at 0x0000024EA56E2390>, for_update=False)), schema=None)}\n",
      "\n",
      " products\n",
      "\n",
      " userorderitems\n",
      "SELECT * FROM products p JOIN userorderitems uoi ON p.id = uoi.productId WHERE uoi.orderId = 1\n"
     ]
    }
   ],
   "source": [
    "query = sa.text(\n",
    "    \"SELECT * FROM products p JOIN userorderProducts uoi ON p.id = uoi.productId WHERE uoi.orderId = 1\"\n",
    ")\n",
    "print(query)\n",
    "\n",
    "validated_query_1 = dbvf.validateTables(query.text)\n",
    "print(validated_query_1.text)"
   ]
  },
  {
   "cell_type": "markdown",
   "metadata": {},
   "source": [
    "## Validate and replace column names:\n",
    "### Should work in SELECT and JOIN statements"
   ]
  },
  {
   "cell_type": "code",
   "execution_count": 3,
   "metadata": {},
   "outputs": [
    {
     "name": "stdout",
     "output_type": "stream",
     "text": [
      "SELECT * FROM products p JOIN userorderitems uoi ON p.id = uoi.productId WHERE uoi.orderId = 1\n",
      "Query columns by table: \n",
      " {'products': ['id', 'name', 'price'], 'userorderitems': ['productid', 'orderid']} \n",
      "\n",
      "id is valid.\n",
      "\n",
      "name is valid.\n",
      "\n",
      "price is valid.\n",
      "\n",
      "productid is valid.\n",
      "\n",
      "Invalid query. The column 'orderid' does not exist in the table 'UserOrderItems'.\n",
      "Replaced 'orderid' with 'id' \n",
      "\n",
      "SELECT * FROM products p JOIN userorderitems uoi ON p.id = uoi.productId WHERE uoi.id = 1\n"
     ]
    },
    {
     "data": {
      "text/plain": [
       "<sqlalchemy.sql.elements.TextClause object at 0x0000024EFB520D90>"
      ]
     },
     "execution_count": 3,
     "metadata": {},
     "output_type": "execute_result"
    }
   ],
   "source": [
    "query2 = sa.text(\n",
    "    \"SELECT * FROM products p JOIN userorderitems uoi ON p.id = uoi.productId WHERE uoi.orderId = 1\"\n",
    ")\n",
    "print(query2)\n",
    "\n",
    "dbvf.validateColumns(query2.text)"
   ]
  },
  {
   "cell_type": "markdown",
   "metadata": {},
   "source": [
    "## Validate entire query from function call:"
   ]
  },
  {
   "cell_type": "code",
   "execution_count": 4,
   "metadata": {},
   "outputs": [
    {
     "name": "stdout",
     "output_type": "stream",
     "text": [
      "Query 'SELECT * FROM products p JOIN userorderProducts uoi ON p.id = uoi.productId WHERE uoi.orderId = 1' could not be run. \n",
      " (pyodbc.ProgrammingError) ('42S02', \"[42S02] [Microsoft][ODBC Driver 18 for SQL Server][SQL Server]Invalid object name 'userorderProducts'. (208) (SQLExecDirectW)\")\n",
      "[SQL: SELECT * FROM products p JOIN userorderProducts uoi ON p.id = uoi.productId WHERE uoi.orderId = 1]\n",
      "(Background on this error at: https://sqlalche.me/e/20/f405) \n",
      "\n",
      "{\n",
      "  \"role\": \"assistant\",\n",
      "  \"content\": null,\n",
      "  \"function_call\": {\n",
      "    \"name\": \"validateTables\",\n",
      "    \"arguments\": \"{\\n  \\\"query\\\": \\\"SELECT * FROM products p JOIN userorderProducts uoi ON p.id = uoi.productId WHERE uoi.orderId = 1\\\"\\n}\"\n",
      "  }\n",
      "}\n",
      "validateTables\n",
      "<function validateTables at 0x0000024EA55CB560>\n",
      "products is valid.\n",
      "\n",
      "Invalid query. The table 'userorderproducts' does not exist in the database.\n",
      "Replaced userorderproducts with userorderitems \n",
      "\n",
      "['products', 'userorderitems']\n",
      "\n",
      "Function call first response:\n",
      "[{'role': 'user', 'content': '(pyodbc.ProgrammingError) (\\'42S02\\', \"[42S02] [Microsoft][ODBC Driver 18 for SQL Server][SQL Server]Invalid object name \\'userorderProducts\\'. (208) (SQLExecDirectW)\")\\n[SQL: SELECT * FROM products p JOIN userorderProducts uoi ON p.id = uoi.productId WHERE uoi.orderId = 1]\\n(Background on this error at: https://sqlalche.me/e/20/f405)'}, <OpenAIObject at 0x24ea5660bf0> JSON: {\n",
      "  \"role\": \"assistant\",\n",
      "  \"content\": null,\n",
      "  \"function_call\": {\n",
      "    \"name\": \"validateTables\",\n",
      "    \"arguments\": \"{\\n  \\\"query\\\": \\\"SELECT * FROM products p JOIN userorderProducts uoi ON p.id = uoi.productId WHERE uoi.orderId = 1\\\"\\n}\"\n",
      "  }\n",
      "}, {'role': 'function', 'name': 'validateTables', 'content': <sqlalchemy.sql.elements.TextClause object at 0x0000024EA56767D0>}]\n",
      "Function results: \n",
      "\n",
      " SELECT * FROM products p JOIN userorderitems uoi ON p.id = uoi.productId WHERE uoi.orderId = 1\n",
      "Query 'SELECT * FROM products p JOIN userorderitems uoi ON p.id = uoi.productId WHERE uoi.orderId = 1' could not be run. \n",
      " (pyodbc.ProgrammingError) ('42S22', \"[42S22] [Microsoft][ODBC Driver 18 for SQL Server][SQL Server]Invalid column name 'orderId'. (207) (SQLExecDirectW)\")\n",
      "[SQL: SELECT * FROM products p JOIN userorderitems uoi ON p.id = uoi.productId WHERE uoi.orderId = 1]\n",
      "(Background on this error at: https://sqlalche.me/e/20/f405) \n",
      "\n",
      "{\n",
      "  \"role\": \"assistant\",\n",
      "  \"content\": null,\n",
      "  \"function_call\": {\n",
      "    \"name\": \"validateColumns\",\n",
      "    \"arguments\": \"{\\n  \\\"query\\\": \\\"SELECT * FROM products p JOIN userorderitems uoi ON p.id = uoi.productId WHERE uoi.orderId = 1\\\"\\n}\"\n",
      "  }\n",
      "}\n",
      "validateColumns\n",
      "<function validateColumns at 0x0000024EA55CB6A0>\n",
      "Query columns by table: \n",
      " {'products': ['id', 'name', 'price'], 'userorderitems': ['productid', 'orderid']} \n",
      "\n",
      "id is valid.\n",
      "\n",
      "name is valid.\n",
      "\n",
      "price is valid.\n",
      "\n",
      "productid is valid.\n",
      "\n",
      "Invalid query. The column 'orderid' does not exist in the table 'UserOrderItems'.\n",
      "Replaced 'orderid' with 'id' \n",
      "\n",
      "SELECT * FROM products p JOIN userorderitems uoi ON p.id = uoi.productId WHERE uoi.id = 1\n",
      "\n",
      "Function call first response:\n",
      "[{'role': 'user', 'content': '(pyodbc.ProgrammingError) (\\'42S22\\', \"[42S22] [Microsoft][ODBC Driver 18 for SQL Server][SQL Server]Invalid column name \\'orderId\\'. (207) (SQLExecDirectW)\")\\n[SQL: SELECT * FROM products p JOIN userorderitems uoi ON p.id = uoi.productId WHERE uoi.orderId = 1]\\n(Background on this error at: https://sqlalche.me/e/20/f405)'}, <OpenAIObject at 0x24ea56c4b90> JSON: {\n",
      "  \"role\": \"assistant\",\n",
      "  \"content\": null,\n",
      "  \"function_call\": {\n",
      "    \"name\": \"validateColumns\",\n",
      "    \"arguments\": \"{\\n  \\\"query\\\": \\\"SELECT * FROM products p JOIN userorderitems uoi ON p.id = uoi.productId WHERE uoi.orderId = 1\\\"\\n}\"\n",
      "  }\n",
      "}, {'role': 'function', 'name': 'validateColumns', 'content': <sqlalchemy.sql.elements.TextClause object at 0x0000024EA56FA590>}]\n",
      "Function results: \n",
      "\n",
      " SELECT * FROM products p JOIN userorderitems uoi ON p.id = uoi.productId WHERE uoi.id = 1\n"
     ]
    },
    {
     "data": {
      "text/plain": [
       "[<sqlalchemy.sql.elements.TextClause object at 0x0000024EA56FA590>]"
      ]
     },
     "execution_count": 4,
     "metadata": {},
     "output_type": "execute_result"
    }
   ],
   "source": [
    "query_list = [query]\n",
    "dv.validateQueries(query_list)"
   ]
  },
  {
   "cell_type": "code",
   "execution_count": 5,
   "metadata": {},
   "outputs": [
    {
     "name": "stdout",
     "output_type": "stream",
     "text": [
      "SELECT * FROM products p JOIN userorderitems uoi ON p.id = uoi.productId WHERE uoi.id = 1\n"
     ]
    }
   ],
   "source": [
    "for vq in dv.validated_queries:\n",
    "    print(vq.text)"
   ]
  }
 ],
 "metadata": {
  "kernelspec": {
   "display_name": "Python 3",
   "language": "python",
   "name": "python3"
  },
  "language_info": {
   "codemirror_mode": {
    "name": "ipython",
    "version": 3
   },
   "file_extension": ".py",
   "mimetype": "text/x-python",
   "name": "python",
   "nbconvert_exporter": "python",
   "pygments_lexer": "ipython3",
   "version": "3.11.4"
  },
  "orig_nbformat": 4
 },
 "nbformat": 4,
 "nbformat_minor": 2
}
